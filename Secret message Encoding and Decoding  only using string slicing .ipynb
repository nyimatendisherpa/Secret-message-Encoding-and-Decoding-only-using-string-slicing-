{
 "cells": [
  {
   "cell_type": "code",
   "execution_count": null,
   "id": "1b7cb1e4",
   "metadata": {},
   "outputs": [],
   "source": [
    "def encode_message(message):\n",
    "    reversed_msg = message[::-1]\n",
    "    chunks = [reversed_msg[i:i+3] for i in range(0, len(reversed_msg), 3)]\n",
    "    reordered_chunks = chunks[::-1]\n",
    "    encoded_message = \"\".join(reordered_chunks)\n",
    "    return encoded_message\n",
    "\n",
    "\n",
    "def decode_message(encoded_message):\n",
    "    chunks = [encoded_message[i:i+3] for i in range(0, len(encoded_message), 3)]\n",
    "    reordered_chunks = chunks[::-1]\n",
    "    reversed_msg = \"\".join(reordered_chunks)\n",
    "    decoded_message = reversed_msg[::-1]\n",
    "    return decoded_message\n",
    "\n",
    "\n",
    "# Print section \n",
    "message=input(\"please type your message here:\")\n",
    "encoded = encode_message(message)\n",
    "decoded = decode_message(encoded)\n",
    "\n",
    "print(f\"Message: {message}\")\n",
    "print(f\"Encoded Message: {encoded}\")\n",
    "print(f\"Decoded Message: {decoded}\")\n",
    "# for Encoding\n",
    "    # Step 1: Reverse the message\n",
    "    # Step 2: Split into chunks of 3\n",
    "    # Step 3: Reorder chunks in a custom pattern (for example, reverse the chunk order)\n",
    "    # Step 4: Join the reordered chunks into a final encoded message\n",
    "# for decoding\n",
    "    # Step 1: Split the encoded message into chunks of 3 (same as encoding)\n",
    "    # Step 2: Reverse the chunk order back to original\n",
    "    # Step 3: Join chunks and reverse the message to get the original\n"
   ]
  },
  {
   "cell_type": "code",
   "execution_count": null,
   "id": "24ce1166",
   "metadata": {},
   "outputs": [],
   "source": []
  }
 ],
 "metadata": {
  "kernelspec": {
   "display_name": "Python 3 (ipykernel)",
   "language": "python",
   "name": "python3"
  },
  "language_info": {
   "codemirror_mode": {
    "name": "ipython",
    "version": 3
   },
   "file_extension": ".py",
   "mimetype": "text/x-python",
   "name": "python",
   "nbconvert_exporter": "python",
   "pygments_lexer": "ipython3",
   "version": "3.10.12"
  }
 },
 "nbformat": 4,
 "nbformat_minor": 5
}
